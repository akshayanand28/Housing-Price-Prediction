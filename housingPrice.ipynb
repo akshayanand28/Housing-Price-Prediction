{
 "cells": [
  {
   "cell_type": "code",
   "execution_count": 470,
   "metadata": {},
   "outputs": [],
   "source": [
    "import pandas as pd\n",
    "import numpy as np\n",
    "import matplotlib.pyplot as plt\n",
    "import datetime\n",
    "now = datetime.datetime.now()"
   ]
  },
  {
   "cell_type": "code",
   "execution_count": 471,
   "metadata": {},
   "outputs": [],
   "source": [
    "ds = pd.read_csv(\"kc_house_data.csv\")"
   ]
  },
  {
   "cell_type": "code",
   "execution_count": 472,
   "metadata": {},
   "outputs": [
    {
     "data": {
      "text/plain": [
       "False"
      ]
     },
     "execution_count": 472,
     "metadata": {},
     "output_type": "execute_result"
    }
   ],
   "source": [
    "ds.isnull().values.any()"
   ]
  },
  {
   "cell_type": "code",
   "execution_count": 473,
   "metadata": {},
   "outputs": [
    {
     "data": {
      "text/html": [
       "<div>\n",
       "<style scoped>\n",
       "    .dataframe tbody tr th:only-of-type {\n",
       "        vertical-align: middle;\n",
       "    }\n",
       "\n",
       "    .dataframe tbody tr th {\n",
       "        vertical-align: top;\n",
       "    }\n",
       "\n",
       "    .dataframe thead th {\n",
       "        text-align: right;\n",
       "    }\n",
       "</style>\n",
       "<table border=\"1\" class=\"dataframe\">\n",
       "  <thead>\n",
       "    <tr style=\"text-align: right;\">\n",
       "      <th></th>\n",
       "      <th>id</th>\n",
       "      <th>date</th>\n",
       "      <th>price</th>\n",
       "      <th>bedrooms</th>\n",
       "      <th>bathrooms</th>\n",
       "      <th>sqft_living</th>\n",
       "      <th>sqft_lot</th>\n",
       "      <th>floors</th>\n",
       "      <th>waterfront</th>\n",
       "      <th>view</th>\n",
       "      <th>...</th>\n",
       "      <th>grade</th>\n",
       "      <th>sqft_above</th>\n",
       "      <th>sqft_basement</th>\n",
       "      <th>yr_built</th>\n",
       "      <th>yr_renovated</th>\n",
       "      <th>zipcode</th>\n",
       "      <th>lat</th>\n",
       "      <th>long</th>\n",
       "      <th>sqft_living15</th>\n",
       "      <th>sqft_lot15</th>\n",
       "    </tr>\n",
       "  </thead>\n",
       "  <tbody>\n",
       "    <tr>\n",
       "      <th>0</th>\n",
       "      <td>7129300520</td>\n",
       "      <td>20141013T000000</td>\n",
       "      <td>221900.0</td>\n",
       "      <td>3</td>\n",
       "      <td>1.00</td>\n",
       "      <td>1180</td>\n",
       "      <td>5650</td>\n",
       "      <td>1.0</td>\n",
       "      <td>0</td>\n",
       "      <td>0</td>\n",
       "      <td>...</td>\n",
       "      <td>7</td>\n",
       "      <td>1180</td>\n",
       "      <td>0</td>\n",
       "      <td>1955</td>\n",
       "      <td>0</td>\n",
       "      <td>98178</td>\n",
       "      <td>47.5112</td>\n",
       "      <td>-122.257</td>\n",
       "      <td>1340</td>\n",
       "      <td>5650</td>\n",
       "    </tr>\n",
       "    <tr>\n",
       "      <th>1</th>\n",
       "      <td>6414100192</td>\n",
       "      <td>20141209T000000</td>\n",
       "      <td>538000.0</td>\n",
       "      <td>3</td>\n",
       "      <td>2.25</td>\n",
       "      <td>2570</td>\n",
       "      <td>7242</td>\n",
       "      <td>2.0</td>\n",
       "      <td>0</td>\n",
       "      <td>0</td>\n",
       "      <td>...</td>\n",
       "      <td>7</td>\n",
       "      <td>2170</td>\n",
       "      <td>400</td>\n",
       "      <td>1951</td>\n",
       "      <td>1991</td>\n",
       "      <td>98125</td>\n",
       "      <td>47.7210</td>\n",
       "      <td>-122.319</td>\n",
       "      <td>1690</td>\n",
       "      <td>7639</td>\n",
       "    </tr>\n",
       "    <tr>\n",
       "      <th>2</th>\n",
       "      <td>5631500400</td>\n",
       "      <td>20150225T000000</td>\n",
       "      <td>180000.0</td>\n",
       "      <td>2</td>\n",
       "      <td>1.00</td>\n",
       "      <td>770</td>\n",
       "      <td>10000</td>\n",
       "      <td>1.0</td>\n",
       "      <td>0</td>\n",
       "      <td>0</td>\n",
       "      <td>...</td>\n",
       "      <td>6</td>\n",
       "      <td>770</td>\n",
       "      <td>0</td>\n",
       "      <td>1933</td>\n",
       "      <td>0</td>\n",
       "      <td>98028</td>\n",
       "      <td>47.7379</td>\n",
       "      <td>-122.233</td>\n",
       "      <td>2720</td>\n",
       "      <td>8062</td>\n",
       "    </tr>\n",
       "    <tr>\n",
       "      <th>3</th>\n",
       "      <td>2487200875</td>\n",
       "      <td>20141209T000000</td>\n",
       "      <td>604000.0</td>\n",
       "      <td>4</td>\n",
       "      <td>3.00</td>\n",
       "      <td>1960</td>\n",
       "      <td>5000</td>\n",
       "      <td>1.0</td>\n",
       "      <td>0</td>\n",
       "      <td>0</td>\n",
       "      <td>...</td>\n",
       "      <td>7</td>\n",
       "      <td>1050</td>\n",
       "      <td>910</td>\n",
       "      <td>1965</td>\n",
       "      <td>0</td>\n",
       "      <td>98136</td>\n",
       "      <td>47.5208</td>\n",
       "      <td>-122.393</td>\n",
       "      <td>1360</td>\n",
       "      <td>5000</td>\n",
       "    </tr>\n",
       "    <tr>\n",
       "      <th>4</th>\n",
       "      <td>1954400510</td>\n",
       "      <td>20150218T000000</td>\n",
       "      <td>510000.0</td>\n",
       "      <td>3</td>\n",
       "      <td>2.00</td>\n",
       "      <td>1680</td>\n",
       "      <td>8080</td>\n",
       "      <td>1.0</td>\n",
       "      <td>0</td>\n",
       "      <td>0</td>\n",
       "      <td>...</td>\n",
       "      <td>8</td>\n",
       "      <td>1680</td>\n",
       "      <td>0</td>\n",
       "      <td>1987</td>\n",
       "      <td>0</td>\n",
       "      <td>98074</td>\n",
       "      <td>47.6168</td>\n",
       "      <td>-122.045</td>\n",
       "      <td>1800</td>\n",
       "      <td>7503</td>\n",
       "    </tr>\n",
       "    <tr>\n",
       "      <th>5</th>\n",
       "      <td>7237550310</td>\n",
       "      <td>20140512T000000</td>\n",
       "      <td>1225000.0</td>\n",
       "      <td>4</td>\n",
       "      <td>4.50</td>\n",
       "      <td>5420</td>\n",
       "      <td>101930</td>\n",
       "      <td>1.0</td>\n",
       "      <td>0</td>\n",
       "      <td>0</td>\n",
       "      <td>...</td>\n",
       "      <td>11</td>\n",
       "      <td>3890</td>\n",
       "      <td>1530</td>\n",
       "      <td>2001</td>\n",
       "      <td>0</td>\n",
       "      <td>98053</td>\n",
       "      <td>47.6561</td>\n",
       "      <td>-122.005</td>\n",
       "      <td>4760</td>\n",
       "      <td>101930</td>\n",
       "    </tr>\n",
       "    <tr>\n",
       "      <th>6</th>\n",
       "      <td>1321400060</td>\n",
       "      <td>20140627T000000</td>\n",
       "      <td>257500.0</td>\n",
       "      <td>3</td>\n",
       "      <td>2.25</td>\n",
       "      <td>1715</td>\n",
       "      <td>6819</td>\n",
       "      <td>2.0</td>\n",
       "      <td>0</td>\n",
       "      <td>0</td>\n",
       "      <td>...</td>\n",
       "      <td>7</td>\n",
       "      <td>1715</td>\n",
       "      <td>0</td>\n",
       "      <td>1995</td>\n",
       "      <td>0</td>\n",
       "      <td>98003</td>\n",
       "      <td>47.3097</td>\n",
       "      <td>-122.327</td>\n",
       "      <td>2238</td>\n",
       "      <td>6819</td>\n",
       "    </tr>\n",
       "    <tr>\n",
       "      <th>7</th>\n",
       "      <td>2008000270</td>\n",
       "      <td>20150115T000000</td>\n",
       "      <td>291850.0</td>\n",
       "      <td>3</td>\n",
       "      <td>1.50</td>\n",
       "      <td>1060</td>\n",
       "      <td>9711</td>\n",
       "      <td>1.0</td>\n",
       "      <td>0</td>\n",
       "      <td>0</td>\n",
       "      <td>...</td>\n",
       "      <td>7</td>\n",
       "      <td>1060</td>\n",
       "      <td>0</td>\n",
       "      <td>1963</td>\n",
       "      <td>0</td>\n",
       "      <td>98198</td>\n",
       "      <td>47.4095</td>\n",
       "      <td>-122.315</td>\n",
       "      <td>1650</td>\n",
       "      <td>9711</td>\n",
       "    </tr>\n",
       "    <tr>\n",
       "      <th>8</th>\n",
       "      <td>2414600126</td>\n",
       "      <td>20150415T000000</td>\n",
       "      <td>229500.0</td>\n",
       "      <td>3</td>\n",
       "      <td>1.00</td>\n",
       "      <td>1780</td>\n",
       "      <td>7470</td>\n",
       "      <td>1.0</td>\n",
       "      <td>0</td>\n",
       "      <td>0</td>\n",
       "      <td>...</td>\n",
       "      <td>7</td>\n",
       "      <td>1050</td>\n",
       "      <td>730</td>\n",
       "      <td>1960</td>\n",
       "      <td>0</td>\n",
       "      <td>98146</td>\n",
       "      <td>47.5123</td>\n",
       "      <td>-122.337</td>\n",
       "      <td>1780</td>\n",
       "      <td>8113</td>\n",
       "    </tr>\n",
       "    <tr>\n",
       "      <th>9</th>\n",
       "      <td>3793500160</td>\n",
       "      <td>20150312T000000</td>\n",
       "      <td>323000.0</td>\n",
       "      <td>3</td>\n",
       "      <td>2.50</td>\n",
       "      <td>1890</td>\n",
       "      <td>6560</td>\n",
       "      <td>2.0</td>\n",
       "      <td>0</td>\n",
       "      <td>0</td>\n",
       "      <td>...</td>\n",
       "      <td>7</td>\n",
       "      <td>1890</td>\n",
       "      <td>0</td>\n",
       "      <td>2003</td>\n",
       "      <td>0</td>\n",
       "      <td>98038</td>\n",
       "      <td>47.3684</td>\n",
       "      <td>-122.031</td>\n",
       "      <td>2390</td>\n",
       "      <td>7570</td>\n",
       "    </tr>\n",
       "  </tbody>\n",
       "</table>\n",
       "<p>10 rows × 21 columns</p>\n",
       "</div>"
      ],
      "text/plain": [
       "           id             date      price  bedrooms  bathrooms  sqft_living  \\\n",
       "0  7129300520  20141013T000000   221900.0         3       1.00         1180   \n",
       "1  6414100192  20141209T000000   538000.0         3       2.25         2570   \n",
       "2  5631500400  20150225T000000   180000.0         2       1.00          770   \n",
       "3  2487200875  20141209T000000   604000.0         4       3.00         1960   \n",
       "4  1954400510  20150218T000000   510000.0         3       2.00         1680   \n",
       "5  7237550310  20140512T000000  1225000.0         4       4.50         5420   \n",
       "6  1321400060  20140627T000000   257500.0         3       2.25         1715   \n",
       "7  2008000270  20150115T000000   291850.0         3       1.50         1060   \n",
       "8  2414600126  20150415T000000   229500.0         3       1.00         1780   \n",
       "9  3793500160  20150312T000000   323000.0         3       2.50         1890   \n",
       "\n",
       "   sqft_lot  floors  waterfront  view     ...      grade  sqft_above  \\\n",
       "0      5650     1.0           0     0     ...          7        1180   \n",
       "1      7242     2.0           0     0     ...          7        2170   \n",
       "2     10000     1.0           0     0     ...          6         770   \n",
       "3      5000     1.0           0     0     ...          7        1050   \n",
       "4      8080     1.0           0     0     ...          8        1680   \n",
       "5    101930     1.0           0     0     ...         11        3890   \n",
       "6      6819     2.0           0     0     ...          7        1715   \n",
       "7      9711     1.0           0     0     ...          7        1060   \n",
       "8      7470     1.0           0     0     ...          7        1050   \n",
       "9      6560     2.0           0     0     ...          7        1890   \n",
       "\n",
       "   sqft_basement  yr_built  yr_renovated  zipcode      lat     long  \\\n",
       "0              0      1955             0    98178  47.5112 -122.257   \n",
       "1            400      1951          1991    98125  47.7210 -122.319   \n",
       "2              0      1933             0    98028  47.7379 -122.233   \n",
       "3            910      1965             0    98136  47.5208 -122.393   \n",
       "4              0      1987             0    98074  47.6168 -122.045   \n",
       "5           1530      2001             0    98053  47.6561 -122.005   \n",
       "6              0      1995             0    98003  47.3097 -122.327   \n",
       "7              0      1963             0    98198  47.4095 -122.315   \n",
       "8            730      1960             0    98146  47.5123 -122.337   \n",
       "9              0      2003             0    98038  47.3684 -122.031   \n",
       "\n",
       "   sqft_living15  sqft_lot15  \n",
       "0           1340        5650  \n",
       "1           1690        7639  \n",
       "2           2720        8062  \n",
       "3           1360        5000  \n",
       "4           1800        7503  \n",
       "5           4760      101930  \n",
       "6           2238        6819  \n",
       "7           1650        9711  \n",
       "8           1780        8113  \n",
       "9           2390        7570  \n",
       "\n",
       "[10 rows x 21 columns]"
      ]
     },
     "execution_count": 473,
     "metadata": {},
     "output_type": "execute_result"
    }
   ],
   "source": [
    "ds.head(10)"
   ]
  },
  {
   "cell_type": "code",
   "execution_count": 474,
   "metadata": {},
   "outputs": [],
   "source": [
    "ds['bedrooms']=(ds['bedrooms']-ds['bedrooms'].mean())/(ds['bedrooms'].std())"
   ]
  },
  {
   "cell_type": "code",
   "execution_count": 475,
   "metadata": {},
   "outputs": [],
   "source": [
    "ds['bathrooms']=(ds['bathrooms']-ds['bathrooms'].mean())/(ds['bathrooms'].std())"
   ]
  },
  {
   "cell_type": "code",
   "execution_count": 476,
   "metadata": {},
   "outputs": [],
   "source": [
    "ds['sqft_living']=(ds['sqft_living']-ds['sqft_living'].mean())/(ds['sqft_living'].std())"
   ]
  },
  {
   "cell_type": "code",
   "execution_count": 477,
   "metadata": {},
   "outputs": [],
   "source": [
    "ds['sqft_lot']=(ds['sqft_lot']-ds['sqft_lot'].mean())/(ds['sqft_lot'].std())"
   ]
  },
  {
   "cell_type": "code",
   "execution_count": 478,
   "metadata": {},
   "outputs": [],
   "source": [
    "ds['grade']=(ds['grade']-ds['grade'].mean())/(ds['grade'].std())"
   ]
  },
  {
   "cell_type": "code",
   "execution_count": 479,
   "metadata": {},
   "outputs": [],
   "source": [
    "ds['sqft_above']=(ds['sqft_above']-ds['sqft_above'].mean())/(ds['sqft_above'].std())"
   ]
  },
  {
   "cell_type": "code",
   "execution_count": 480,
   "metadata": {},
   "outputs": [],
   "source": [
    "ds['sqft_basement']=(ds['sqft_basement']-ds['sqft_basement'].mean())/(ds['sqft_basement'].std())"
   ]
  },
  {
   "cell_type": "code",
   "execution_count": 481,
   "metadata": {},
   "outputs": [],
   "source": [
    "ds['yr_built']=(now.year-ds['yr_built'])"
   ]
  },
  {
   "cell_type": "code",
   "execution_count": 482,
   "metadata": {},
   "outputs": [],
   "source": [
    "ds['yr_renovated']=(now.year-ds['yr_renovated'])"
   ]
  },
  {
   "cell_type": "code",
   "execution_count": 483,
   "metadata": {},
   "outputs": [],
   "source": [
    "ds['zipcode']=(ds['zipcode']-ds['zipcode'].mean())/(ds['zipcode'].std())"
   ]
  },
  {
   "cell_type": "code",
   "execution_count": 484,
   "metadata": {},
   "outputs": [],
   "source": [
    "ds['lat']=(ds['lat']-ds['lat'].mean())/(ds['lat'].std())"
   ]
  },
  {
   "cell_type": "code",
   "execution_count": 485,
   "metadata": {},
   "outputs": [],
   "source": [
    "ds['long']=(ds['long']-ds['long'].mean())/(ds['long'].std())"
   ]
  },
  {
   "cell_type": "code",
   "execution_count": 486,
   "metadata": {},
   "outputs": [],
   "source": [
    "ds['sqft_living15']=(ds['sqft_living15']-ds['sqft_living15'].mean())/(ds['sqft_living15'].std())"
   ]
  },
  {
   "cell_type": "code",
   "execution_count": 487,
   "metadata": {},
   "outputs": [],
   "source": [
    "ds['sqft_lot15']=(ds['sqft_lot15']-ds['sqft_lot15'].mean())/(ds['sqft_lot15'].std())"
   ]
  },
  {
   "cell_type": "code",
   "execution_count": 488,
   "metadata": {},
   "outputs": [
    {
     "name": "stdout",
     "output_type": "stream",
     "text": [
      "7700000.0\n"
     ]
    }
   ],
   "source": [
    "max=ds['price'].max()\n",
    "print(max)"
   ]
  },
  {
   "cell_type": "code",
   "execution_count": 489,
   "metadata": {},
   "outputs": [],
   "source": [
    "ds['price']=ds['price']/10000000"
   ]
  },
  {
   "cell_type": "code",
   "execution_count": 490,
   "metadata": {},
   "outputs": [
    {
     "data": {
      "text/plain": [
       "(21613, 21)"
      ]
     },
     "execution_count": 490,
     "metadata": {},
     "output_type": "execute_result"
    }
   ],
   "source": [
    "ds.shape"
   ]
  },
  {
   "cell_type": "code",
   "execution_count": 491,
   "metadata": {},
   "outputs": [],
   "source": [
    "ds=ds.loc[:15129,:]"
   ]
  },
  {
   "cell_type": "code",
   "execution_count": 492,
   "metadata": {},
   "outputs": [],
   "source": [
    "list_drop = ['id', 'date']\n",
    "ds.drop(list_drop, axis=1, inplace=True)"
   ]
  },
  {
   "cell_type": "code",
   "execution_count": 493,
   "metadata": {},
   "outputs": [
    {
     "data": {
      "text/plain": [
       "(15130, 19)"
      ]
     },
     "execution_count": 493,
     "metadata": {},
     "output_type": "execute_result"
    }
   ],
   "source": [
    "ds.shape"
   ]
  },
  {
   "cell_type": "code",
   "execution_count": 494,
   "metadata": {},
   "outputs": [
    {
     "data": {
      "text/html": [
       "<div>\n",
       "<style scoped>\n",
       "    .dataframe tbody tr th:only-of-type {\n",
       "        vertical-align: middle;\n",
       "    }\n",
       "\n",
       "    .dataframe tbody tr th {\n",
       "        vertical-align: top;\n",
       "    }\n",
       "\n",
       "    .dataframe thead th {\n",
       "        text-align: right;\n",
       "    }\n",
       "</style>\n",
       "<table border=\"1\" class=\"dataframe\">\n",
       "  <thead>\n",
       "    <tr style=\"text-align: right;\">\n",
       "      <th></th>\n",
       "      <th>price</th>\n",
       "      <th>bedrooms</th>\n",
       "      <th>bathrooms</th>\n",
       "      <th>sqft_living</th>\n",
       "      <th>sqft_lot</th>\n",
       "      <th>floors</th>\n",
       "      <th>waterfront</th>\n",
       "      <th>view</th>\n",
       "      <th>condition</th>\n",
       "      <th>grade</th>\n",
       "      <th>sqft_above</th>\n",
       "      <th>sqft_basement</th>\n",
       "      <th>yr_built</th>\n",
       "      <th>yr_renovated</th>\n",
       "      <th>zipcode</th>\n",
       "      <th>lat</th>\n",
       "      <th>long</th>\n",
       "      <th>sqft_living15</th>\n",
       "      <th>sqft_lot15</th>\n",
       "    </tr>\n",
       "  </thead>\n",
       "  <tbody>\n",
       "    <tr>\n",
       "      <th>0</th>\n",
       "      <td>0.022190</td>\n",
       "      <td>-0.398728</td>\n",
       "      <td>-1.447430</td>\n",
       "      <td>-0.979812</td>\n",
       "      <td>-0.228316</td>\n",
       "      <td>1.0</td>\n",
       "      <td>0</td>\n",
       "      <td>0</td>\n",
       "      <td>3</td>\n",
       "      <td>-0.558823</td>\n",
       "      <td>-0.734691</td>\n",
       "      <td>-0.658666</td>\n",
       "      <td>63</td>\n",
       "      <td>2018</td>\n",
       "      <td>1.870108</td>\n",
       "      <td>-0.352564</td>\n",
       "      <td>-0.306072</td>\n",
       "      <td>-0.943333</td>\n",
       "      <td>-0.260709</td>\n",
       "    </tr>\n",
       "    <tr>\n",
       "      <th>1</th>\n",
       "      <td>0.053800</td>\n",
       "      <td>-0.398728</td>\n",
       "      <td>0.175603</td>\n",
       "      <td>0.533622</td>\n",
       "      <td>-0.189881</td>\n",
       "      <td>2.0</td>\n",
       "      <td>0</td>\n",
       "      <td>0</td>\n",
       "      <td>3</td>\n",
       "      <td>-0.558823</td>\n",
       "      <td>0.460830</td>\n",
       "      <td>0.245136</td>\n",
       "      <td>67</td>\n",
       "      <td>27</td>\n",
       "      <td>0.879547</td>\n",
       "      <td>1.161541</td>\n",
       "      <td>-0.746324</td>\n",
       "      <td>-0.432676</td>\n",
       "      <td>-0.187863</td>\n",
       "    </tr>\n",
       "    <tr>\n",
       "      <th>2</th>\n",
       "      <td>0.018000</td>\n",
       "      <td>-1.473925</td>\n",
       "      <td>-1.447430</td>\n",
       "      <td>-1.426221</td>\n",
       "      <td>-0.123296</td>\n",
       "      <td>1.0</td>\n",
       "      <td>0</td>\n",
       "      <td>0</td>\n",
       "      <td>3</td>\n",
       "      <td>-1.409554</td>\n",
       "      <td>-1.229805</td>\n",
       "      <td>-0.658666</td>\n",
       "      <td>85</td>\n",
       "      <td>2018</td>\n",
       "      <td>-0.933367</td>\n",
       "      <td>1.283507</td>\n",
       "      <td>-0.135652</td>\n",
       "      <td>1.070115</td>\n",
       "      <td>-0.172371</td>\n",
       "    </tr>\n",
       "    <tr>\n",
       "      <th>3</th>\n",
       "      <td>0.060400</td>\n",
       "      <td>0.676469</td>\n",
       "      <td>1.149422</td>\n",
       "      <td>-0.130547</td>\n",
       "      <td>-0.244009</td>\n",
       "      <td>1.0</td>\n",
       "      <td>0</td>\n",
       "      <td>0</td>\n",
       "      <td>5</td>\n",
       "      <td>-0.558823</td>\n",
       "      <td>-0.891678</td>\n",
       "      <td>1.397483</td>\n",
       "      <td>53</td>\n",
       "      <td>2018</td>\n",
       "      <td>1.085135</td>\n",
       "      <td>-0.283281</td>\n",
       "      <td>-1.271787</td>\n",
       "      <td>-0.914153</td>\n",
       "      <td>-0.284515</td>\n",
       "    </tr>\n",
       "    <tr>\n",
       "      <th>4</th>\n",
       "      <td>0.051000</td>\n",
       "      <td>-0.398728</td>\n",
       "      <td>-0.149004</td>\n",
       "      <td>-0.435412</td>\n",
       "      <td>-0.169649</td>\n",
       "      <td>1.0</td>\n",
       "      <td>0</td>\n",
       "      <td>0</td>\n",
       "      <td>3</td>\n",
       "      <td>0.291909</td>\n",
       "      <td>-0.130892</td>\n",
       "      <td>-0.658666</td>\n",
       "      <td>31</td>\n",
       "      <td>2018</td>\n",
       "      <td>-0.073634</td>\n",
       "      <td>0.409541</td>\n",
       "      <td>1.199307</td>\n",
       "      <td>-0.272184</td>\n",
       "      <td>-0.192844</td>\n",
       "    </tr>\n",
       "    <tr>\n",
       "      <th>5</th>\n",
       "      <td>0.122500</td>\n",
       "      <td>0.676469</td>\n",
       "      <td>3.097062</td>\n",
       "      <td>3.636707</td>\n",
       "      <td>2.096136</td>\n",
       "      <td>1.0</td>\n",
       "      <td>0</td>\n",
       "      <td>0</td>\n",
       "      <td>3</td>\n",
       "      <td>2.844104</td>\n",
       "      <td>2.537897</td>\n",
       "      <td>2.798375</td>\n",
       "      <td>17</td>\n",
       "      <td>2018</td>\n",
       "      <td>-0.466121</td>\n",
       "      <td>0.693165</td>\n",
       "      <td>1.483341</td>\n",
       "      <td>4.046517</td>\n",
       "      <td>3.265491</td>\n",
       "    </tr>\n",
       "    <tr>\n",
       "      <th>6</th>\n",
       "      <td>0.025750</td>\n",
       "      <td>-0.398728</td>\n",
       "      <td>0.175603</td>\n",
       "      <td>-0.397303</td>\n",
       "      <td>-0.200093</td>\n",
       "      <td>2.0</td>\n",
       "      <td>0</td>\n",
       "      <td>0</td>\n",
       "      <td>3</td>\n",
       "      <td>-0.558823</td>\n",
       "      <td>-0.088626</td>\n",
       "      <td>-0.658666</td>\n",
       "      <td>23</td>\n",
       "      <td>2018</td>\n",
       "      <td>-1.400612</td>\n",
       "      <td>-1.806768</td>\n",
       "      <td>-0.803131</td>\n",
       "      <td>0.366867</td>\n",
       "      <td>-0.217895</td>\n",
       "    </tr>\n",
       "    <tr>\n",
       "      <th>7</th>\n",
       "      <td>0.029185</td>\n",
       "      <td>-0.398728</td>\n",
       "      <td>-0.798217</td>\n",
       "      <td>-1.110469</td>\n",
       "      <td>-0.130273</td>\n",
       "      <td>1.0</td>\n",
       "      <td>0</td>\n",
       "      <td>0</td>\n",
       "      <td>3</td>\n",
       "      <td>-0.558823</td>\n",
       "      <td>-0.879602</td>\n",
       "      <td>-0.658666</td>\n",
       "      <td>55</td>\n",
       "      <td>2018</td>\n",
       "      <td>2.243905</td>\n",
       "      <td>-1.086522</td>\n",
       "      <td>-0.717921</td>\n",
       "      <td>-0.491037</td>\n",
       "      <td>-0.111978</td>\n",
       "    </tr>\n",
       "    <tr>\n",
       "      <th>8</th>\n",
       "      <td>0.022950</td>\n",
       "      <td>-0.398728</td>\n",
       "      <td>-1.447430</td>\n",
       "      <td>-0.326531</td>\n",
       "      <td>-0.184376</td>\n",
       "      <td>1.0</td>\n",
       "      <td>0</td>\n",
       "      <td>0</td>\n",
       "      <td>3</td>\n",
       "      <td>-0.558823</td>\n",
       "      <td>-0.891678</td>\n",
       "      <td>0.990772</td>\n",
       "      <td>58</td>\n",
       "      <td>2018</td>\n",
       "      <td>1.272034</td>\n",
       "      <td>-0.344625</td>\n",
       "      <td>-0.874139</td>\n",
       "      <td>-0.301364</td>\n",
       "      <td>-0.170503</td>\n",
       "    </tr>\n",
       "    <tr>\n",
       "      <th>9</th>\n",
       "      <td>0.032300</td>\n",
       "      <td>-0.398728</td>\n",
       "      <td>0.500209</td>\n",
       "      <td>-0.206763</td>\n",
       "      <td>-0.206346</td>\n",
       "      <td>2.0</td>\n",
       "      <td>0</td>\n",
       "      <td>0</td>\n",
       "      <td>3</td>\n",
       "      <td>-0.558823</td>\n",
       "      <td>0.122703</td>\n",
       "      <td>-0.658666</td>\n",
       "      <td>15</td>\n",
       "      <td>2018</td>\n",
       "      <td>-0.746468</td>\n",
       "      <td>-1.383136</td>\n",
       "      <td>1.298719</td>\n",
       "      <td>0.588638</td>\n",
       "      <td>-0.190390</td>\n",
       "    </tr>\n",
       "  </tbody>\n",
       "</table>\n",
       "</div>"
      ],
      "text/plain": [
       "      price  bedrooms  bathrooms  sqft_living  sqft_lot  floors  waterfront  \\\n",
       "0  0.022190 -0.398728  -1.447430    -0.979812 -0.228316     1.0           0   \n",
       "1  0.053800 -0.398728   0.175603     0.533622 -0.189881     2.0           0   \n",
       "2  0.018000 -1.473925  -1.447430    -1.426221 -0.123296     1.0           0   \n",
       "3  0.060400  0.676469   1.149422    -0.130547 -0.244009     1.0           0   \n",
       "4  0.051000 -0.398728  -0.149004    -0.435412 -0.169649     1.0           0   \n",
       "5  0.122500  0.676469   3.097062     3.636707  2.096136     1.0           0   \n",
       "6  0.025750 -0.398728   0.175603    -0.397303 -0.200093     2.0           0   \n",
       "7  0.029185 -0.398728  -0.798217    -1.110469 -0.130273     1.0           0   \n",
       "8  0.022950 -0.398728  -1.447430    -0.326531 -0.184376     1.0           0   \n",
       "9  0.032300 -0.398728   0.500209    -0.206763 -0.206346     2.0           0   \n",
       "\n",
       "   view  condition     grade  sqft_above  sqft_basement  yr_built  \\\n",
       "0     0          3 -0.558823   -0.734691      -0.658666        63   \n",
       "1     0          3 -0.558823    0.460830       0.245136        67   \n",
       "2     0          3 -1.409554   -1.229805      -0.658666        85   \n",
       "3     0          5 -0.558823   -0.891678       1.397483        53   \n",
       "4     0          3  0.291909   -0.130892      -0.658666        31   \n",
       "5     0          3  2.844104    2.537897       2.798375        17   \n",
       "6     0          3 -0.558823   -0.088626      -0.658666        23   \n",
       "7     0          3 -0.558823   -0.879602      -0.658666        55   \n",
       "8     0          3 -0.558823   -0.891678       0.990772        58   \n",
       "9     0          3 -0.558823    0.122703      -0.658666        15   \n",
       "\n",
       "   yr_renovated   zipcode       lat      long  sqft_living15  sqft_lot15  \n",
       "0          2018  1.870108 -0.352564 -0.306072      -0.943333   -0.260709  \n",
       "1            27  0.879547  1.161541 -0.746324      -0.432676   -0.187863  \n",
       "2          2018 -0.933367  1.283507 -0.135652       1.070115   -0.172371  \n",
       "3          2018  1.085135 -0.283281 -1.271787      -0.914153   -0.284515  \n",
       "4          2018 -0.073634  0.409541  1.199307      -0.272184   -0.192844  \n",
       "5          2018 -0.466121  0.693165  1.483341       4.046517    3.265491  \n",
       "6          2018 -1.400612 -1.806768 -0.803131       0.366867   -0.217895  \n",
       "7          2018  2.243905 -1.086522 -0.717921      -0.491037   -0.111978  \n",
       "8          2018  1.272034 -0.344625 -0.874139      -0.301364   -0.170503  \n",
       "9          2018 -0.746468 -1.383136  1.298719       0.588638   -0.190390  "
      ]
     },
     "execution_count": 494,
     "metadata": {},
     "output_type": "execute_result"
    }
   ],
   "source": [
    "ds.head(10)"
   ]
  },
  {
   "cell_type": "code",
   "execution_count": 495,
   "metadata": {},
   "outputs": [],
   "source": [
    "Y=np.array(ds['price'])"
   ]
  },
  {
   "cell_type": "code",
   "execution_count": 496,
   "metadata": {},
   "outputs": [],
   "source": [
    "Y = Y.reshape((1,Y.shape[0]))"
   ]
  },
  {
   "cell_type": "code",
   "execution_count": 497,
   "metadata": {},
   "outputs": [
    {
     "data": {
      "text/plain": [
       "(1, 15130)"
      ]
     },
     "execution_count": 497,
     "metadata": {},
     "output_type": "execute_result"
    }
   ],
   "source": [
    "Y.shape"
   ]
  },
  {
   "cell_type": "code",
   "execution_count": 498,
   "metadata": {},
   "outputs": [],
   "source": [
    "X=np.array([np.ones(15130),ds['bedrooms'],ds['bathrooms'],ds['sqft_living'],ds['sqft_lot'],ds['floors'],ds['waterfront'],ds['view'],ds['condition'],ds['grade'],ds['sqft_above'],ds['sqft_basement'],ds['yr_built'],ds['yr_renovated'],ds['zipcode'],ds['lat'],ds['long'],ds['sqft_living15'],ds['sqft_lot15']])"
   ]
  },
  {
   "cell_type": "code",
   "execution_count": 499,
   "metadata": {},
   "outputs": [
    {
     "data": {
      "text/plain": [
       "(19, 15130)"
      ]
     },
     "execution_count": 499,
     "metadata": {},
     "output_type": "execute_result"
    }
   ],
   "source": [
    "X.shape"
   ]
  },
  {
   "cell_type": "code",
   "execution_count": 500,
   "metadata": {},
   "outputs": [
    {
     "data": {
      "text/plain": [
       "(1, 15130)"
      ]
     },
     "execution_count": 500,
     "metadata": {},
     "output_type": "execute_result"
    }
   ],
   "source": [
    "Y.shape"
   ]
  },
  {
   "cell_type": "code",
   "execution_count": 501,
   "metadata": {},
   "outputs": [],
   "source": [
    "def initialize_params(X):\n",
    "    n,m = X.shape\n",
    "    theta = np.zeros((1,n))\n",
    "    return theta"
   ]
  },
  {
   "cell_type": "code",
   "execution_count": 502,
   "metadata": {},
   "outputs": [],
   "source": [
    "def compute_cost(theta,X,Y,m):\n",
    "    cost=np.sum(np.power(np.dot(theta,X)-Y,2))/(2*m)\n",
    "    return cost"
   ]
  },
  {
   "cell_type": "code",
   "execution_count": 503,
   "metadata": {},
   "outputs": [],
   "source": [
    "def grad_desc(X,Y,theta):\n",
    "    dtheta=(np.dot(np.dot(theta,X)-Y,X.T))\n",
    "    return dtheta"
   ]
  },
  {
   "cell_type": "code",
   "execution_count": 504,
   "metadata": {},
   "outputs": [],
   "source": [
    "def lr_model(X,Y,iter=20,alpha=1e-7):\n",
    "    n,m = X.shape\n",
    "    theta=initialize_params(X)\n",
    "    costs = []\n",
    "    iters = []\n",
    "    for i in range (iter):\n",
    "        cost=compute_cost(theta,X,Y,m)\n",
    "        costs.append(cost)\n",
    "        iters.append(i+1)\n",
    "        #if (i+1)%100==0:\n",
    "        print('Cost after ',(i+1),' iterations: ',cost)\n",
    "        dtheta=grad_desc(X,Y,theta)\n",
    "        theta=theta-(alpha/m)*dtheta\n",
    "    return theta,costs,iters"
   ]
  },
  {
   "cell_type": "code",
   "execution_count": 505,
   "metadata": {},
   "outputs": [
    {
     "name": "stdout",
     "output_type": "stream",
     "text": [
      "Cost after  1  iterations:  0.0020895001929184484\n",
      "Cost after  2  iterations:  0.0012740940816259169\n",
      "Cost after  3  iterations:  0.0009697707196789598\n",
      "Cost after  4  iterations:  0.0008561903785405807\n",
      "Cost after  5  iterations:  0.000813797922724421\n",
      "Cost after  6  iterations:  0.0007979737526370695\n",
      "Cost after  7  iterations:  0.0007920652279734074\n",
      "Cost after  8  iterations:  0.0007898573573022799\n",
      "Cost after  9  iterations:  0.0007890306214493886\n",
      "Cost after  10  iterations:  0.000788719344369973\n",
      "Cost after  11  iterations:  0.000788600444011973\n",
      "Cost after  12  iterations:  0.0007885533417674309\n",
      "Cost after  13  iterations:  0.0007885330360628281\n",
      "Cost after  14  iterations:  0.0007885227316999012\n",
      "Cost after  15  iterations:  0.0007885161604825494\n",
      "Cost after  16  iterations:  0.0007885109830347892\n",
      "Cost after  17  iterations:  0.000788506326269641\n",
      "Cost after  18  iterations:  0.000788501864339087\n",
      "Cost after  19  iterations:  0.0007884974756321192\n",
      "Cost after  20  iterations:  0.0007884931147617543\n"
     ]
    }
   ],
   "source": [
    "theta,costs,iters = lr_model(X, Y, iter=20,alpha = 1e-7)"
   ]
  },
  {
   "cell_type": "code",
   "execution_count": 506,
   "metadata": {},
   "outputs": [
    {
     "data": {
      "text/plain": [
       "[<matplotlib.lines.Line2D at 0x7f7ef96986d8>]"
      ]
     },
     "execution_count": 506,
     "metadata": {},
     "output_type": "execute_result"
    },
    {
     "data": {
      "image/png": "[encoded data removed]",
      "text/plain": [
       "<Figure size 432x288 with 1 Axes>"
      ]
     },
     "metadata": {
      "needs_background": "light"
     },
     "output_type": "display_data"
    }
   ],
   "source": [
    "plt.plot(iters,costs)"
   ]
  },
  {
   "cell_type": "code",
   "execution_count": 507,
   "metadata": {},
   "outputs": [
    {
     "name": "stdout",
     "output_type": "stream",
     "text": [
      "[[ 1.95880853e-08  2.23148016e-08  3.75358034e-08  5.13518017e-08\n",
      "   7.54270831e-09  3.89067137e-08  2.07432157e-09  2.87743528e-08\n",
      "   6.88099360e-08  4.73378662e-08  4.29701895e-08  2.61658871e-08\n",
      "   1.03445069e-06  2.58402639e-05 -1.99412027e-09  2.30899218e-08\n",
      "  -3.64185070e-10  4.26076434e-08  6.75155840e-09]]\n"
     ]
    }
   ],
   "source": [
    "print(theta)"
   ]
  },
  {
   "cell_type": "code",
   "execution_count": 508,
   "metadata": {},
   "outputs": [],
   "source": [
    "Y1=np.dot(theta,X)"
   ]
  },
  {
   "cell_type": "code",
   "execution_count": 515,
   "metadata": {},
   "outputs": [
    {
     "name": "stdout",
     "output_type": "stream",
     "text": [
      "[[0.05221084 0.00076733 0.05223362 ... 0.05221605 0.05215853 0.05225065]]\n"
     ]
    }
   ],
   "source": [
    "print(Y1)"
   ]
  },
  {
   "cell_type": "code",
   "execution_count": 517,
   "metadata": {},
   "outputs": [
    {
     "name": "stdout",
     "output_type": "stream",
     "text": [
      "[[0.02219  0.0538   0.018    ... 0.03085  0.034    0.093775]]\n"
     ]
    }
   ],
   "source": [
    "print(Y)"
   ]
  },
  {
   "cell_type": "code",
   "execution_count": 521,
   "metadata": {},
   "outputs": [
    {
     "data": {
      "text/plain": [
       "-51.25219907451036"
      ]
     },
     "execution_count": 521,
     "metadata": {},
     "output_type": "execute_result"
    }
   ],
   "source": [
    "np.sum(Y1-Y.mean())"
   ]
  },
  {
   "cell_type": "code",
   "execution_count": 512,
   "metadata": {},
   "outputs": [
    {
     "name": "stdout",
     "output_type": "stream",
     "text": [
      "[[ 231160.49546484 -408351.5727617   263598.90095245 ...  164518.57526331\n",
      "   139820.67884074 -319737.5332914 ]]\n"
     ]
    }
   ],
   "source": [
    "print((Y1-Y)*max)"
   ]
  },
  {
   "cell_type": "code",
   "execution_count": 522,
   "metadata": {},
   "outputs": [],
   "source": [
    "sigma=np.sqrt(np.sum(np.power(Y1-Y.mean(),2))/15130)"
   ]
  },
  {
   "cell_type": "code",
   "execution_count": 523,
   "metadata": {},
   "outputs": [
    {
     "name": "stdout",
     "output_type": "stream",
     "text": [
      "0.011224104109493812\n"
     ]
    }
   ],
   "source": [
    "print(sigma)"
   ]
  }
 ],
 "metadata": {
  "kernelspec": {
   "display_name": "Python 3",
   "language": "python",
   "name": "python3"
  },
  "language_info": {
   "codemirror_mode": {
    "name": "ipython",
    "version": 3
   },
   "file_extension": ".py",
   "mimetype": "text/x-python",
   "name": "python",
   "nbconvert_exporter": "python",
   "pygments_lexer": "ipython3",
   "version": "3.7.0"
  }
 },
 "nbformat": 4,
 "nbformat_minor": 2
}
